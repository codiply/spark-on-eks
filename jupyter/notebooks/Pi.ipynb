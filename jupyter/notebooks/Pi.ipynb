{
 "cells": [
  {
   "cell_type": "code",
   "execution_count": 1,
   "id": "6b5cf83e-33b2-4aba-81df-c660572ebf83",
   "metadata": {},
   "outputs": [],
   "source": [
    "import os\n",
    "from random import random\n",
    "from operator import add\n",
    "from pyspark.sql import SparkSession"
   ]
  },
  {
   "cell_type": "code",
   "execution_count": 2,
   "id": "a4f324f9-7582-4d79-987b-ba53f6b81dc2",
   "metadata": {},
   "outputs": [],
   "source": [
    "spark = SparkSession\\\n",
    "          .builder\\\n",
    "          .appName(\"PythonPi\")\\\n",
    "          .master('local[*]')\\\n",
    "          .getOrCreate()"
   ]
  },
  {
   "cell_type": "code",
   "execution_count": 3,
   "id": "057f1aea-8c81-445c-bae4-7ddfb332c992",
   "metadata": {},
   "outputs": [],
   "source": [
    "def f(_):\n",
    "    x = random() * 2 - 1\n",
    "    y = random() * 2 - 1\n",
    "    return 1 if x ** 2 + y ** 2 <= 1 else 0"
   ]
  },
  {
   "cell_type": "code",
   "execution_count": 4,
   "id": "68ce6eef-5361-4c7f-ba77-3c762e68dcc2",
   "metadata": {},
   "outputs": [],
   "source": [
    "partitions = 4\n",
    "n = 10000000 * partitions"
   ]
  },
  {
   "cell_type": "code",
   "execution_count": 5,
   "id": "5de3243b-4642-4ae7-8c55-ec873a323c80",
   "metadata": {},
   "outputs": [],
   "source": [
    "count = spark.sparkContext.parallelize(range(1, n + 1), partitions).map(f).reduce(add)"
   ]
  },
  {
   "cell_type": "code",
   "execution_count": 6,
   "id": "2b636aef-e7e1-4e3c-a613-a72d943490bb",
   "metadata": {},
   "outputs": [],
   "source": [
    "pi = 4.0 * count / n"
   ]
  },
  {
   "cell_type": "code",
   "execution_count": 7,
   "id": "5f47bf50-062e-4718-9369-64e04a6ac779",
   "metadata": {},
   "outputs": [
    {
     "data": {
      "text/plain": [
       "3.1414776"
      ]
     },
     "execution_count": 7,
     "metadata": {},
     "output_type": "execute_result"
    }
   ],
   "source": [
    "pi"
   ]
  },
  {
   "cell_type": "code",
   "execution_count": 8,
   "id": "ab1fb604-e81c-4487-a3d2-d1b2b7ad6058",
   "metadata": {},
   "outputs": [],
   "source": [
    "spark.stop()"
   ]
  },
  {
   "cell_type": "code",
   "execution_count": null,
   "id": "3d09f1df-0dbd-4bcd-b133-c1d1dbff751c",
   "metadata": {},
   "outputs": [],
   "source": []
  }
 ],
 "metadata": {
  "kernelspec": {
   "display_name": "Python 3",
   "language": "python",
   "name": "python3"
  },
  "language_info": {
   "codemirror_mode": {
    "name": "ipython",
    "version": 3
   },
   "file_extension": ".py",
   "mimetype": "text/x-python",
   "name": "python",
   "nbconvert_exporter": "python",
   "pygments_lexer": "ipython3",
   "version": "3.9.4"
  }
 },
 "nbformat": 4,
 "nbformat_minor": 5
}
