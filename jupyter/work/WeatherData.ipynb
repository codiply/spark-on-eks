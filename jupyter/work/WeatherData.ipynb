{
 "cells": [
  {
   "cell_type": "code",
   "execution_count": 1,
   "id": "6b5cf83e-33b2-4aba-81df-c660572ebf83",
   "metadata": {},
   "outputs": [],
   "source": [
    "import os\n",
    "import boto3\n",
    "from pyspark.sql import SparkSession\n",
    "from pyspark.sql.functions import col, avg, to_timestamp, year\n",
    "from pyspark.sql.types import StructType, StructField, StringType, IntegerType, FloatType"
   ]
  },
  {
   "cell_type": "code",
   "execution_count": 2,
   "id": "3359fb6b-e9f5-4274-b20a-a2d5e5c2526e",
   "metadata": {},
   "outputs": [],
   "source": [
    "bucket = \"spark-eks-data-lake-\""
   ]
  },
  {
   "cell_type": "code",
   "execution_count": 3,
   "id": "24e1adfc-cb62-4fee-bb15-670304dfe683",
   "metadata": {},
   "outputs": [],
   "source": [
    "session = boto3.Session()\n",
    "credentials = session.get_credentials().get_frozen_credentials()\n",
    "access_key = credentials.access_key\n",
    "secret_key = credentials.secret_key"
   ]
  },
  {
   "cell_type": "code",
   "execution_count": 4,
   "id": "a4f324f9-7582-4d79-987b-ba53f6b81dc2",
   "metadata": {},
   "outputs": [],
   "source": [
    "spark = SparkSession\\\n",
    "          .builder\\\n",
    "          .appName(\"ReadFromS3\")\\\n",
    "          .master('local[*]')\\\n",
    "          .config(\"spark.hadoop.fs.s3a.impl\", \"org.apache.hadoop.fs.s3a.S3AFileSystem\")\\\n",
    "          .config(\"spark.hadoop.fs.AbstractFileSystem.s3a.impl\", \"org.apache.hadoop.fs.s3a.S3A\")\\\n",
    "          .config(\"spark.hadoop.fs.s3a.access.key\", access_key)\\\n",
    "          .config(\"spark.hadoop.fs.s3a.secret.key\", secret_key)\\\n",
    "          .config(\"spark.hadoop.fs.s3a.multiobjectdelete.enable\", \"false\") \\\n",
    "          .config(\"spark.hadoop.fs.s3a.fast.upload\",\"true\") \\\n",
    "          .getOrCreate()"
   ]
  },
  {
   "cell_type": "code",
   "execution_count": 5,
   "id": "1ff0b75a-9266-4fac-81f4-fda363a77474",
   "metadata": {},
   "outputs": [],
   "source": [
    "schema = StructType([\n",
    "    StructField(\"station_id\", StringType(), False),\n",
    "    StructField(\"date\", StringType(), False),\n",
    "    StructField(\"element\", StringType(), False),\n",
    "    StructField(\"value\", FloatType(), False),\n",
    "    StructField(\"m_flag\", StringType(), True),\n",
    "    StructField(\"q_flag\", StringType(), True),\n",
    "    StructField(\"s_flag\", StringType(), True),\n",
    "    StructField(\"obs_time\", StringType(), True)\n",
    "])"
   ]
  },
  {
   "cell_type": "code",
   "execution_count": 9,
   "id": "02304797-b85c-4bfa-a252-7632b89c5847",
   "metadata": {},
   "outputs": [],
   "source": [
    "df = spark.read.csv(\"s3a://{}/weather/\".format(bucket), header=False, schema=schema).cache()"
   ]
  },
  {
   "cell_type": "code",
   "execution_count": 10,
   "id": "b2fbf74b-95ce-4e19-a016-8d5d3a7512dc",
   "metadata": {},
   "outputs": [],
   "source": [
    "df_tavg = df.filter(col(\"element\") == \"TAVG\")\\\n",
    "  .withColumn(\"year\", year(to_timestamp(\"date\", 'yyyyMMdd')))\\\n",
    "  .groupBy(\"station_id\", \"year\")\\\n",
    "  .agg(avg(\"value\").alias(\"tavg\"))\\\n",
    "  .cache()"
   ]
  },
  {
   "cell_type": "code",
   "execution_count": 8,
   "id": "7bd3aec6-79c9-4512-8c01-e8d2e6a60ecc",
   "metadata": {},
   "outputs": [],
   "source": [
    "df_tavg.write.json(\"s3a://{}/weather-tavg/\".format(bucket), mode=\"overwrite\")"
   ]
  },
  {
   "cell_type": "code",
   "execution_count": 7,
   "id": "ab1fb604-e81c-4487-a3d2-d1b2b7ad6058",
   "metadata": {},
   "outputs": [],
   "source": [
    "spark.stop()"
   ]
  },
  {
   "cell_type": "code",
   "execution_count": null,
   "id": "3d09f1df-0dbd-4bcd-b133-c1d1dbff751c",
   "metadata": {},
   "outputs": [],
   "source": []
  }
 ],
 "metadata": {
  "kernelspec": {
   "display_name": "Python 3",
   "language": "python",
   "name": "python3"
  },
  "language_info": {
   "codemirror_mode": {
    "name": "ipython",
    "version": 3
   },
   "file_extension": ".py",
   "mimetype": "text/x-python",
   "name": "python",
   "nbconvert_exporter": "python",
   "pygments_lexer": "ipython3",
   "version": "3.9.4"
  }
 },
 "nbformat": 4,
 "nbformat_minor": 5
}
