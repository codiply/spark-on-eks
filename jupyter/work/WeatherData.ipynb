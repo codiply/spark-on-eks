{
 "cells": [
  {
   "cell_type": "code",
   "execution_count": 12,
   "source": [
    "import os\n",
    "import boto3\n",
    "from pyspark.sql import SparkSession\n",
    "from pyspark.sql.functions import col, avg, to_timestamp, year\n",
    "from pyspark.sql.types import StructType, StructField, StringType, FloatType"
   ],
   "outputs": [],
   "metadata": {}
  },
  {
   "cell_type": "code",
   "execution_count": 13,
   "source": [
    "bucket = \"spark-eks-data-lake-\""
   ],
   "outputs": [],
   "metadata": {}
  },
  {
   "cell_type": "code",
   "execution_count": 14,
   "source": [
    "session = boto3.Session()\n",
    "credentials = session.get_credentials().get_frozen_credentials()\n",
    "access_key = credentials.access_key\n",
    "secret_key = credentials.secret_key"
   ],
   "outputs": [],
   "metadata": {}
  },
  {
   "cell_type": "code",
   "execution_count": 15,
   "source": [
    "spark = SparkSession\\\n",
    "          .builder\\\n",
    "          .appName(\"WeatherData\")\\\n",
    "          .master('local[*]')\\\n",
    "          .config(\"spark.hadoop.fs.s3a.impl\", \"org.apache.hadoop.fs.s3a.S3AFileSystem\")\\\n",
    "          .config(\"spark.hadoop.fs.s3a.access.key\", access_key)\\\n",
    "          .config(\"spark.hadoop.fs.s3a.secret.key\", secret_key)\\\n",
    "          .getOrCreate()"
   ],
   "outputs": [],
   "metadata": {}
  },
  {
   "cell_type": "code",
   "execution_count": 16,
   "source": [
    "schema = StructType([\n",
    "    StructField(\"station_id\", StringType(), False),\n",
    "    StructField(\"date\", StringType(), False),\n",
    "    StructField(\"element\", StringType(), False),\n",
    "    StructField(\"value\", FloatType(), False),\n",
    "    StructField(\"m_flag\", StringType(), True),\n",
    "    StructField(\"q_flag\", StringType(), True),\n",
    "    StructField(\"s_flag\", StringType(), True),\n",
    "    StructField(\"obs_time\", StringType(), True)\n",
    "])"
   ],
   "outputs": [],
   "metadata": {}
  },
  {
   "cell_type": "code",
   "execution_count": 17,
   "source": [
    "df = spark.read.csv(\"s3a://{}/weather/\".format(bucket), header=False, schema=schema).cache()"
   ],
   "outputs": [],
   "metadata": {}
  },
  {
   "cell_type": "code",
   "execution_count": 18,
   "source": [
    "df_tavg = df.filter(col(\"element\") == \"TAVG\")\\\n",
    "  .withColumn(\"year\", year(to_timestamp(\"date\", 'yyyyMMdd')))\\\n",
    "  .groupBy(\"station_id\", \"year\")\\\n",
    "  .agg(avg(\"value\").alias(\"tavg\"))\\\n",
    "  .cache()"
   ],
   "outputs": [],
   "metadata": {}
  },
  {
   "cell_type": "code",
   "execution_count": 19,
   "source": [
    "df_tavg.write.json(\"s3a://{}/weather-tavg/\".format(bucket), mode=\"overwrite\")"
   ],
   "outputs": [],
   "metadata": {}
  },
  {
   "cell_type": "code",
   "execution_count": 20,
   "source": [
    "spark.stop()"
   ],
   "outputs": [],
   "metadata": {}
  },
  {
   "cell_type": "code",
   "execution_count": null,
   "source": [],
   "outputs": [],
   "metadata": {}
  }
 ],
 "metadata": {
  "kernelspec": {
   "display_name": "Python 3",
   "language": "python",
   "name": "python3"
  },
  "language_info": {
   "codemirror_mode": {
    "name": "ipython",
    "version": 3
   },
   "file_extension": ".py",
   "mimetype": "text/x-python",
   "name": "python",
   "nbconvert_exporter": "python",
   "pygments_lexer": "ipython3",
   "version": "3.9.4"
  }
 },
 "nbformat": 4,
 "nbformat_minor": 5
}